{
 "cells": [
  {
   "cell_type": "markdown",
   "id": "818c7f1c",
   "metadata": {},
   "source": [
    "# 소셜네트워크\n",
    "\n",
    "## 개요\n",
    "\n",
    "### 1. 등장 및 확산, 분류\n",
    " * 스마트 디바이스의 급격한 확산으로 인해 온라인 접근성 증대\n",
    " * SNS는 온라인 인맥 네트워크와 메세지 정보가 결합된 구조로 중요한 정보이기 때문에 측정과 이해가 필요\n",
    " * 관계, 소통, 협업, 공유 등으로 구분 가능(정보 공동생산, 콘텐츠 공유, 서비스를 협업을 통해 생산) \n",
    " * 한가지의 유형의 속성만 있는 것은 아님\n",
    " \n",
    "### 2. 네트워크 이론의 역사\n",
    "  * **네트워크란?** 각각의 객체들이 상호 연결된 구조 [노드(행위자)+링크(관계)]\n",
    "  * _eg) 세계 항공기 노선도, 지하철 노선도_\n",
    "  \n",
    "  \n",
    "  *  오일러의 '쾨니히스베르크 다리 건너기 문제': 각 꼭짓점에 연결된 변의 개수가 모두 짝수여야 함을 증명\n",
    "  * 모레노의 '소시오그램': 사람들간의 인간관계 파악 -> 교육학에 유용하게 사용\n",
    "  * 바베라스와 리빗의 실험 : 의사소통 관계의 패턴의 효과를 실험, 의사소통 구조를 다르게 하여 실험 진행 -> 네트워크 중심성에 대해 집중\n",
    "  * 밀그램의 6단계 분리이론: 전달 목표 대상에게 가는 데까지 평균 5.5단계 -> 좁은 세상 효과 \n",
    "  * 그라노베터 '약간 연결의 강점': 약한 사회적 관계의 유용성에 대한 새로운 시사점 제시\n",
    "  * 프리만의 '중심성 지표': 연결정도 중심성, 근접 중심성, 매개 중심성 네트워크 분석에 있어 상용하는 척도\n",
    "  * 버트의 '구조적 공백': 개인의 인적 네트워크 구조상에서 구조상 공백이 많은 사람이 구조적 공백이 적은 사람보다 빠르게 승진 -> 정보 흐름과 영향역에 있어 중요한 역할을 하는 사람을 파악하기 쉬움\n",
    "  * 왓츠, 스트로가츠의 '좁은 세상 네트워크': 무작위 네트워크 사이에 중간에 좁은 세상 네트워크가 존재함\n",
    "  * 바라바시, 알버트, 정하웅 '무척도 네트워크': 정규분포가 아닌 멱함수법칙을 따름, 선호적 연결 현상 발생->반복->소수의 네트워크가 전체 네트워크의 허브 등의 중요한 역할을 수행하게 됨\n",
    "  \n",
    "  \n",
    "  \n",
    "## 기초\n",
    "\n",
    "### 1. 그래프의 기본\n",
    " * 무방향 네트워크(책, 논문 공저자, 페북 친구 관계)\n",
    " * 방향 네트워크(인터넷 주소의 하이퍼링크, 통화 네트워크, 트위터 리트윗, 팔로워 팔로잉)\n",
    " * 이진 네트워크: 관계의 유무만을 표현\n",
    " * 가중 네트워크: 관계의 정도를 함께 표시\n",
    "\n",
    "### 2. 그래프 표현방법\n",
    " * 인접행렬: 인접한 노드들간 관계를 행렬로 표현 (링크의 유무를 1과 0으로 표현)\n",
    " * 노드 리스트: 인접한 링크가 있는 노드만을 표기하는 노드들만의 목록\n",
    " * 엣지 리스트: 노드들간을 연결한 링크의 목록, 고립된 노드는 링크가 존재하지 않아 목록에서 제외되는 단점\n",
    " \n",
    "### 3. 네트워크의 종류\n",
    " * 방향성과 가중치 유뮤에 따라 4종류로 구분\n",
    " * 네트워크를 이루고 있는 관계 위상에 따라 여러 유형으로 구분(매쉬, 스타, 버스, 라인 등등)\n",
    " * 크기에 따라 구분: 노드의 규모, 링크의 규모\n",
    " * 분석 대상에 따라 구분: 전체 네트워크>하위 네트워크(3개 이상 노드끼리 연결되어 있을 경우 '파당')\n",
    " \n",
    " * 클러스터: 유사한 속성을 가진 노드들의 집합\n",
    " * 에고 네트워크: 특정 노드를 중심에 두고 그 노드와 직접적으로 연결된 노드간의 관계를 네트워크로 표현한 것\n",
    " \n",
    " \n",
    " \n",
    " \n",
    "## 소셜 네트워크 분석 지표\n",
    "\n",
    "### 1. 네트워크 수준의 속성\n",
    " * 네트워크 크기: 구성하는 노드의 수\n",
    " * 네트워크 밀도: 노드들 간의 연결된 정도\n",
    " * 포괄성: 전체 노드 중 실제로 연결된 노드의 개수\n",
    "\n",
    "### 2. 노드 수준의 속성\n",
    " * 연결정도: 해당 노드에 연결되어 있는 노트, 링크의 개수, 활동성과 영향력 유추, 연결정도가 높을수록 높은 활동성과 영향력 유추\n",
    " * 연결강도: 노드간의 링크의 강도\n",
    " * 연결거리: 최단 연결 경로, 짧을수록 연결이 높아지고 얼마나 신속하게 정보가 전달되는가 가늠\n",
    " * 직경: 최장 연결 경로, 작을수록 신속한 정보 전달 가능하고 효율성이 높아짐\n",
    " * 평균연결거리: 모든 노드간의 최단 연결거리의 평균\n",
    " \n",
    "### 3. 네트워크 내재 속성\n",
    " * 상호성: 쌍방향 노드 연결(상호적 연결), 단방향 노드 연결(비상호적 연결)\n",
    " * 군집화 계수: 다른 부분보다 네트워크 밀도가 높은 곳의 정도\n",
    " \n",
    "### 4. 중심성 분석\n",
    " * 한 행위자가 전체 네트워크에서 중심에 위치하는 정도를 표현\n",
    " * 1) **연결정도 중심성**: 한 노드가 **얼마나 많은** 다른 노드와 연결되었는가\n",
    " * _많은 연결관계를 가질수록 더 큰 영향성과 중심성을 갖고, 의존성은 낮음_\n",
    " * 2) **근접 중심성**: 한 노드가 **얼마나 중요한가, 중심에 근접해 있는가**\n",
    " * _중앙에 가깝게 위치할수록 정보를 신속하게 전체로 확산 가능_\n",
    " * 3) **매개 중심성**: 한 노드가 **중개자 또는 매개자의 역할**을 수행하는가\n",
    " * _중심성이 높을수록 높은 통제력을 갖고, 네트워크를 위협할 수 있음_\n",
    " * 4) **아이겐 벡터 중심성**: 연결된 다른 노드들의 **중요도의 질**\n",
    " * _무작정 많은 연결에 집중하는 것이 아닌 중요한 연결에 집중_\n",
    " \n",
    " "
   ]
  },
  {
   "cell_type": "code",
   "execution_count": 7,
   "id": "e52033f7",
   "metadata": {},
   "outputs": [],
   "source": [
    "import networkx as nx\n",
    "import pandas as pd\n",
    "import matplotlib.pyplot as plt\n",
    "import itertools\n",
    "import os \n",
    "\n",
    "os.chdir('C:/Users/User/Desktop/Yeyomi/2021_3-2_옌\\캡스톤')\n",
    "all_books = ['asoiaf-all-edges.csv', 'asoiaf-all-nodes.csv']\n",
    "\n",
    "li = []\n",
    "for f in all_books:\n",
    "    tmp = pd.read_csv(f)\n",
    "    li.append(tmp)"
   ]
  },
  {
   "cell_type": "code",
   "execution_count": 8,
   "id": "7a9fbe74",
   "metadata": {},
   "outputs": [
    {
     "name": "stdout",
     "output_type": "stream",
     "text": [
      "              Source            Target\n",
      "0     Addam-Marbrand     Brynden-Tully\n",
      "1     Addam-Marbrand  Cersei-Lannister\n",
      "2     Addam-Marbrand       Gyles-Rosby\n",
      "3     Addam-Marbrand   Jaime-Lannister\n",
      "4     Addam-Marbrand      Jalabhar-Xho\n",
      "...              ...               ...\n",
      "2819    Waymar-Royce   Will-(prologue)\n",
      "2820          Weasel             Weese\n",
      "2821            Woth             Yoren\n",
      "2822          Yandry            Ysilla\n",
      "2823             NaN               NaN\n",
      "\n",
      "[2824 rows x 2 columns]\n",
      "797\n",
      "2824\n"
     ]
    }
   ],
   "source": [
    "df = pd.concat(li, axis=0, ignore_index=True) #합치기\n",
    "df = df[['Source', 'Target']] #source, target 컬럼만 남기기\n",
    "df.drop_duplicates(subset=['Source', 'Target'], inplace=True) #겹치는 데이터 삭제 \n",
    "print(df)\n",
    "\n",
    "G = nx.from_pandas_edgelist(df, source='Source', target='Target')\n",
    "\n",
    "print(len(G.nodes())) #797\n",
    "print(len(G.edges())) #2824"
   ]
  },
  {
   "cell_type": "code",
   "execution_count": 12,
   "id": "042959ed",
   "metadata": {},
   "outputs": [
    {
     "data": {
      "text/plain": [
       "[('Tyrion-Lannister', 0.47573472515362913),\n",
       " ('Robert-Baratheon', 0.4586951220574275),\n",
       " ('Eddard-Stark', 0.4552759497026417),\n",
       " ('Cersei-Lannister', 0.45397441754225676),\n",
       " ('Jaime-Lannister', 0.4513935510411638)]"
      ]
     },
     "execution_count": 12,
     "metadata": {},
     "output_type": "execute_result"
    }
   ],
   "source": [
    "# 연결중심성 계산\n",
    "deg_cen = nx.degree_centrality(G)\n",
    "sorted(deg_cen.items(), key=lambda x:x[1], reverse=True)[0:5]\n",
    "\n",
    "# 근접중심성 계산\n",
    "clos_cen = nx.closeness_centrality(G)\n",
    "sorted(clos_cen.items(), key=lambda x:x[1], reverse=True)[0:5]"
   ]
  }
 ],
 "metadata": {
  "kernelspec": {
   "display_name": "Python 3",
   "language": "python",
   "name": "python3"
  },
  "language_info": {
   "codemirror_mode": {
    "name": "ipython",
    "version": 3
   },
   "file_extension": ".py",
   "mimetype": "text/x-python",
   "name": "python",
   "nbconvert_exporter": "python",
   "pygments_lexer": "ipython3",
   "version": "3.8.8"
  }
 },
 "nbformat": 4,
 "nbformat_minor": 5
}
