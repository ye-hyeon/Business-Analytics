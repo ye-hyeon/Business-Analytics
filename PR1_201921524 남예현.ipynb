{
 "cells": [
  {
   "cell_type": "markdown",
   "id": "93503c88",
   "metadata": {},
   "source": [
    "# 파이썬 스타일 코드 1 - 연습해보기\n",
    "\n",
    "# 일반문제\n",
    "---\n",
    "\n",
    "## 1. Css Selecttor 수정\n",
    "\n",
    "Css Selector는 웹 페이지에서 특정 요소를 선택하기 위해 해당 요소까지 찾아갈 수 있도록 해주는 주소와 같은 것이다. 대부분의 웹브라우져에서 는 해당 요소에 대한 css selector 값을 쉽게 얻어올 수 있다 (F12 > Select an Element). 다음과 같은 selector가 있다고 한다."
   ]
  },
  {
   "cell_type": "code",
   "execution_count": 24,
   "id": "59e86154",
   "metadata": {},
   "outputs": [],
   "source": [
    "#today_main_news > div.hdline_news > ul > li:nth-child(1)"
   ]
  },
  {
   "cell_type": "markdown",
   "id": "c2098938",
   "metadata": {},
   "source": [
    "이러한 selector를 웹크롤링에서 사용하기 위해서는 :nth-child라는 부분을 제거하는 작업이 필요한데, 이를 자동화 해보자.\n",
    "\n",
    ">_**Q**_: 해당 Selector를 문자열로 표시하고, split과 join 함수를 활용하여 다음 예시와 같은 selector를 출력하시오.\n",
    "\n",
    "### 출력결과 예시\n"
   ]
  },
  {
   "cell_type": "code",
   "execution_count": 25,
   "id": "47ac6083",
   "metadata": {},
   "outputs": [],
   "source": [
    "selector = \"#today_main_news > div.hdline_news > ul > li:nth-child(1)\"\n",
    "\n",
    "\n",
    "## CODE\n",
    "\n",
    "## '#today_main_news  >  div.hdline_news  >  ul  >  li'"
   ]
  },
  {
   "cell_type": "markdown",
   "id": "d393b694",
   "metadata": {},
   "source": [
    "### HINT\n",
    "1. 특정 구분자(seperator)를 통해 구분된 리스트를 만든다.\n",
    "2. 구분된 리스트에서 해당 부분을 선택하고 1과는 다른 특정 구분자로 나눠준다.\n",
    "3. 2의 리스트에서 필요한 부분만 선택하여 기존 리스트에 할당한다.\n",
    "4. 구분자를 기준으로 리스트를 문자열로 합쳐준다."
   ]
  },
  {
   "cell_type": "code",
   "execution_count": 26,
   "id": "a9850f43",
   "metadata": {},
   "outputs": [
    {
     "data": {
      "text/plain": [
       "'#today_main_news  >  div.hdline_news  >  ul  >  li'"
      ]
     },
     "execution_count": 26,
     "metadata": {},
     "output_type": "execute_result"
    }
   ],
   "source": [
    "selector = \"#today_main_news > div.hdline_news > ul > li:nth-child(1)\"\n",
    "\n",
    "selector_list = selector.split(\">\") # >을 기준으로 구분된 리스트 저장 \n",
    "selector_list[-1] = selector_list[-1].split(\":\")[0] # 마지막 문자열을 :으로 나눈 첫번때 글자로 저장\n",
    "\n",
    "\" > \".join(selector_list) # 저장된 리스트에 조인하여 출력 "
   ]
  },
  {
   "cell_type": "markdown",
   "id": "ca54fa50",
   "metadata": {},
   "source": [
    "'#today_main_news  >  div.hdline_news  >  ul  >  li'\n",
    "\n",
    "## 2. list comprehension으로 만드는 구구단\n",
    "PR5 문제 3번에서 만들었던 구구단 계산기를 list comprehension으로 구현해보고자 한다.\n",
    "> _**Q**_:list comprehension을 사용하여 구구단을 연산하는 함수 gugu_com을 작성하고 구구단 7단을 출력하시오.\n",
    "\n",
    "### 출력 결과 예시"
   ]
  },
  {
   "cell_type": "code",
   "execution_count": 27,
   "id": "04e38b3a",
   "metadata": {},
   "outputs": [
    {
     "name": "stdout",
     "output_type": "stream",
     "text": [
      "2 x 1 = 2\n",
      "2 x 2 = 4\n",
      "2 x 3 = 6\n",
      "2 x 4 = 8\n",
      "2 x 5 = 10\n",
      "2 x 6 = 12\n",
      "2 x 7 = 14\n",
      "2 x 8 = 16\n",
      "2 x 9 = 18\n"
     ]
    }
   ],
   "source": [
    "gugu_com(x=2)\n",
    "\n",
    "# 2  x  1 = 2\n",
    "# 2  x  2 = 4\n",
    "# 2  x  3 = 6\n",
    "# 2  x  4 = 8\n",
    "# 2  x  5 = 10\n",
    "# 2  x  6 = 12\n",
    "# 2  x  7 = 14\n",
    "# 2  x  8 = 16\n",
    "# 2  x  9 = 18"
   ]
  },
  {
   "cell_type": "code",
   "execution_count": 28,
   "id": "f7b52081",
   "metadata": {},
   "outputs": [
    {
     "name": "stdout",
     "output_type": "stream",
     "text": [
      "2 x 1 = 2\n",
      "2 x 2 = 4\n",
      "2 x 3 = 6\n",
      "2 x 4 = 8\n",
      "2 x 5 = 10\n",
      "2 x 6 = 12\n",
      "2 x 7 = 14\n",
      "2 x 8 = 16\n",
      "2 x 9 = 18\n"
     ]
    }
   ],
   "source": [
    "def gugu_com(x=2): # x=2 gugu_com 함수 정의\n",
    "    [print(f\"{x} x {i} = {x*i}\") for i in range(1, 10)]\n",
    "\n",
    "gugu_com(2) # 정의된 함수에 2를 넣어 결과값 출력"
   ]
  },
  {
   "cell_type": "markdown",
   "id": "225719ba",
   "metadata": {},
   "source": [
    "## 두 주사위의 곱\n",
    "두 주사위의 곱은 다음과 같은 결과를 가진다.\n",
    "\n",
    "|x|**1**|**2**|**3**|**4**|**5**|**6**|\n",
    "|--|--|--|--|--|--|--|\n",
    "|1|1|2|3|4|5|6|\n",
    "|2|2|4|6|8|10|12|\n",
    "|3|3|6|9|12|15|18|\n",
    "|4|4|8|12|16|20|24|\n",
    "|5|5|10|15|20|25|30|\n",
    "|6|6|12|18|24|30|36|\n",
    "\n",
    ">**_Q_**: list comprehension을 사용하여, 힌트를 제외하고는 한줄의 코드로 해당 결과를 가지는 이차원 리스트를 만드시오.\n",
    "### 출력결과 예시"
   ]
  },
  {
   "cell_type": "code",
   "execution_count": 29,
   "id": "a9f2cd40",
   "metadata": {},
   "outputs": [],
   "source": [
    "## CODE\n",
    "\n",
    "## [[1, 2, 3, 4, 5, 6],\n",
    "##  [2, 4, 6, 8, 10, 12],\n",
    "##  [3, 6, 9, 12, 15, 18],\n",
    "##  [4, 8, 12, 16, 20, 24],\n",
    "##  [5, 10, 15, 20, 25, 30],\n",
    "##  [6, 12, 18, 24, 30, 36]]"
   ]
  },
  {
   "cell_type": "markdown",
   "id": "bbc17283",
   "metadata": {},
   "source": [
    "### HINT\n",
    "1. 한개의 주사위는 다음과 같이 표현할 수 있습니다."
   ]
  },
  {
   "cell_type": "code",
   "execution_count": 30,
   "id": "287dc81c",
   "metadata": {},
   "outputs": [],
   "source": [
    "die = [i for i in range(1,7)]"
   ]
  },
  {
   "cell_type": "code",
   "execution_count": 31,
   "id": "4cbfff31",
   "metadata": {},
   "outputs": [
    {
     "data": {
      "text/plain": [
       "[[1, 2, 3, 4, 5, 6],\n",
       " [2, 4, 6, 8, 10, 12],\n",
       " [3, 6, 9, 12, 15, 18],\n",
       " [4, 8, 12, 16, 20, 24],\n",
       " [5, 10, 15, 20, 25, 30],\n",
       " [6, 12, 18, 24, 30, 36]]"
      ]
     },
     "execution_count": 31,
     "metadata": {},
     "output_type": "execute_result"
    }
   ],
   "source": [
    "die = [i for i in range(1,7)]\n",
    "\n",
    "[[j*i for i in die] for j in die]\n",
    "\n",
    "# !~7까지 i와 j에 넣으며, j와i를 곱한다.\n",
    "# j가 1이면 i의 작업이 끝, j가 2가 되어 작업 반복"
   ]
  },
  {
   "cell_type": "markdown",
   "id": "cab37aba",
   "metadata": {},
   "source": [
    "## 두 주사위의 합\n",
    "간단한 테이블 형태의 데이터를 2차원 리스트로 표현해보자. 2개의 주사위를 굴리면 다음 표와 같이 36가지의 결과가 나온다.\n",
    "\n",
    "|+|**1**|**2**|**3**|**4**|**5**|**6**|\n",
    "|--|--|--|--|--|--|--|\n",
    "|1|2|3|4|5|6|7|\n",
    "|2|3|4|5|6|7|8|\n",
    "|3|4|5|6|7|8|9|\n",
    "|4|5|6|7|8|9|10|\n",
    "|5|6|7|8|9|10|11|\n",
    "|6|7|8|9|10|11|12|\n",
    "\n",
    ">_**Q**_:이것을 6 x 6 크기의 2차원 리스트로 생성하고, 인덱싱을 통해 2 + 6의 값을 2가지 방법으로 나타내시오. (2차원 리스트 생성시 방법의 제한은 없습니다.)"
   ]
  },
  {
   "cell_type": "code",
   "execution_count": 32,
   "id": "faa11c42",
   "metadata": {},
   "outputs": [
    {
     "name": "stdout",
     "output_type": "stream",
     "text": [
      "8\n",
      "8\n"
     ]
    }
   ],
   "source": [
    "dice_sum = [[2, 3, 4, 5, 6, 7],\n",
    "            [3, 4, 5, 6, 7, 8],\n",
    "            [4, 5, 6, 7, 8, 9],\n",
    "            [5, 6, 7, 8, 9, 10],\n",
    "            [6, 7, 8, 9, 10, 11],\n",
    "            [7, 8, 9, 10, 11, 12]]\n",
    "\n",
    "print(dice_sum[1][5]) # 1번째행이면서 5번째 열인 값 출력\n",
    "print(dice_sum[5][1]) # 5번째행이면서 1번째 열인 값 출력"
   ]
  },
  {
   "cell_type": "code",
   "execution_count": 23,
   "id": "96312816",
   "metadata": {},
   "outputs": [
    {
     "name": "stdout",
     "output_type": "stream",
     "text": [
      "8\n",
      "8\n"
     ]
    }
   ],
   "source": [
    "die = [i for i in range(1,7)] # 1~7까지 i에 대입하는 die 변수\n",
    "\n",
    "dice_sum = [[j+i for i in die] for j in die]\n",
    "# !~7까지 i와 j에 넣으며, j와i를 곱한다.\n",
    "print(dice_sum[1][5])\n",
    "print(dice_sum[5][1])"
   ]
  },
  {
   "cell_type": "markdown",
   "id": "46f7da6a",
   "metadata": {},
   "source": [
    "# 도전문제\n",
    "---\n",
    "\n",
    "## 표절 검사 프로그램\n",
    "**강의노트 07 자료구조 collections 설명 참고**\n",
    "\n",
    "아주대학교 글로벌 경영학과의 한 교수님은 과제의 표절 검사를 쉽게 하기 위해 Python을 통한 간단한 표절 검사 프로그램을 작성해보고자 한다.\n",
    "\n",
    "현재 구상 중인 프로그램은 복잡한 알고리즘을 필요로하지 않고, 간단하게 단어 빈도를 기반으로 하여, 그 유사도를 측정하고자한다."
   ]
  },
  {
   "cell_type": "code",
   "execution_count": 33,
   "id": "51be039a",
   "metadata": {},
   "outputs": [],
   "source": [
    "from collections import defaultdict, Counter # 외부함수 defaultdict 불러오기\n",
    "\n",
    "text = \"\"\"Python is a very simple programming language so even if you are new to programming, you can learn python without facing any issues.\"\"\"\n",
    "# text에 문자열 저장\n",
    "text2 = \"\"\"C is a very difficult programming language so even if you are good at programming, you can learn c with facing any issues.\"\"\"\n",
    "# text2에 문자열 저장\n",
    "text3 = \"\"\"R Programming is good at statistical analysis. you can learn easily\"\"\"\n",
    "#text3에 문자열 저장"
   ]
  },
  {
   "cell_type": "markdown",
   "id": "72165a33",
   "metadata": {},
   "source": [
    "### 문제1\n",
    ">_**Q**_: defaultdict를 활용하여 text를 입력받으면 단어별 빈도를 측정하여 반환하는 함수 word_counter를 만드시오.\n",
    "\n",
    "### HINT\n",
    "1. collections 모듈의 defaultdict는 단순한 dict와 다르게, 인덱싱에서 key 값이 없으면 오류가 아닌 0을 기본 값으로 가지게 한다."
   ]
  },
  {
   "cell_type": "code",
   "execution_count": 36,
   "id": "d79f887d",
   "metadata": {},
   "outputs": [
    {
     "ename": "KeyError",
     "evalue": "'key'",
     "output_type": "error",
     "traceback": [
      "\u001b[1;31m---------------------------------------------------------------------------\u001b[0m",
      "\u001b[1;31mKeyError\u001b[0m                                  Traceback (most recent call last)",
      "\u001b[1;32m<ipython-input-36-584ef229e42d>\u001b[0m in \u001b[0;36m<module>\u001b[1;34m\u001b[0m\n\u001b[0;32m      1\u001b[0m \u001b[0mword_dict\u001b[0m \u001b[1;33m=\u001b[0m \u001b[0mdict\u001b[0m\u001b[1;33m(\u001b[0m\u001b[1;33m)\u001b[0m\u001b[1;33m\u001b[0m\u001b[1;33m\u001b[0m\u001b[0m\n\u001b[1;32m----> 2\u001b[1;33m \u001b[0mword_dict\u001b[0m\u001b[1;33m[\u001b[0m\u001b[1;34m\"key\"\u001b[0m\u001b[1;33m]\u001b[0m\u001b[1;33m\u001b[0m\u001b[1;33m\u001b[0m\u001b[0m\n\u001b[0m\u001b[0;32m      3\u001b[0m \u001b[1;33m\u001b[0m\u001b[0m\n\u001b[0;32m      4\u001b[0m \u001b[1;31m## KeyError\u001b[0m\u001b[1;33m\u001b[0m\u001b[1;33m\u001b[0m\u001b[1;33m\u001b[0m\u001b[0m\n\u001b[0;32m      5\u001b[0m \u001b[1;33m\u001b[0m\u001b[0m\n",
      "\u001b[1;31mKeyError\u001b[0m: 'key'"
     ]
    }
   ],
   "source": [
    "word_dict = dict()\n",
    "word_dict[\"key\"]\n",
    "\n",
    "## KeyError\n",
    "\n",
    "word_dict = defaultdict(lambda: 0)\n",
    "word_dict[\"key\"] \n",
    "## 0\n",
    "\n",
    "word_dict[\"key\"] += 1\n",
    "word_dict[\"key\"]\n",
    "## 1"
   ]
  },
  {
   "cell_type": "markdown",
   "id": "03bd45d7",
   "metadata": {},
   "source": [
    "1. 유사도 측정을 위해 문장을 단어별로 분할해야하며, 편의를 위해 모두 소문자로 바꿔준다.\n",
    "\n",
    "* split\n",
    "* lower"
   ]
  },
  {
   "cell_type": "code",
   "execution_count": 38,
   "id": "44a20c21",
   "metadata": {},
   "outputs": [],
   "source": [
    "def word_counter(text): # text를 인자로 받는 함수\n",
    "    word_count = defaultdict(lambda: 0)\n",
    "    for word in text.lower().split(): # 위 변수 text를 소문자로, 단어별로 분할 후 하나씩 word에 넣기\n",
    "        word_count[word] += 1 # word에 들어갈 단어가 1씩 증가되어 딕셔너리 완성\n",
    "        \n",
    "    return word_count# 단어별 빈도수 계산 후 출력"
   ]
  },
  {
   "cell_type": "code",
   "execution_count": 39,
   "id": "9e397e2d",
   "metadata": {},
   "outputs": [
    {
     "data": {
      "text/plain": [
       "defaultdict(<function __main__.word_counter.<locals>.<lambda>()>,\n",
       "            {'python': 2,\n",
       "             'is': 1,\n",
       "             'a': 1,\n",
       "             'very': 1,\n",
       "             'simple': 1,\n",
       "             'programming': 1,\n",
       "             'language': 1,\n",
       "             'so': 1,\n",
       "             'even': 1,\n",
       "             'if': 1,\n",
       "             'you': 2,\n",
       "             'are': 1,\n",
       "             'new': 1,\n",
       "             'to': 1,\n",
       "             'programming,': 1,\n",
       "             'can': 1,\n",
       "             'learn': 1,\n",
       "             'without': 1,\n",
       "             'facing': 1,\n",
       "             'any': 1,\n",
       "             'issues.': 1})"
      ]
     },
     "execution_count": 39,
     "metadata": {},
     "output_type": "execute_result"
    }
   ],
   "source": [
    "word_counter(text) # 위 함수를 사용하여 출력"
   ]
  },
  {
   "cell_type": "markdown",
   "id": "d1f55991",
   "metadata": {},
   "source": [
    "### 문제2\n",
    "\n",
    ">**_Q_**: 도전문제 1의 word_counter 활용하여 text와 text2의 유사도와 text와 text3의 유사도를 구하시오.\n",
    "\n",
    "### HINT\n",
    "1. collections 모듈의 Counter는 dict의 형태이지만 Counter들 간의 덧셈, 뺄셈 연산이 가능하며 defaultdict를 Counter로 변환할 수 있다."
   ]
  },
  {
   "cell_type": "code",
   "execution_count": 40,
   "id": "b4d9b6ff",
   "metadata": {},
   "outputs": [
    {
     "data": {
      "text/plain": [
       "Counter({'b': 1, 'c': 2})"
      ]
     },
     "execution_count": 40,
     "metadata": {},
     "output_type": "execute_result"
    }
   ],
   "source": [
    "Counter({\"a\": 1, \"b\": 2, \"c\": 3}) - Counter({\"a\": 1, \"b\": 1, \"c\": 1}) \n",
    "\n",
    "## Counter({'b': 1, 'c': 2})"
   ]
  },
  {
   "cell_type": "markdown",
   "id": "651f47d6",
   "metadata": {},
   "source": [
    "1. dictionary 형태의 모든 자료구조는 .values() 를 통해 value 값만 추출할 수 있다."
   ]
  },
  {
   "cell_type": "code",
   "execution_count": 41,
   "id": "c594e3ba",
   "metadata": {},
   "outputs": [
    {
     "data": {
      "text/plain": [
       "6"
      ]
     },
     "execution_count": 41,
     "metadata": {},
     "output_type": "execute_result"
    }
   ],
   "source": [
    "sum(Counter({\"a\": 1, \"b\": 2, \"c\": 3}).values()) # 전체 단어수 합\n",
    "\n",
    "## 6"
   ]
  },
  {
   "cell_type": "markdown",
   "id": "b7b2d7b0",
   "metadata": {},
   "source": [
    "1. Counter(A)가 Counter(B)와 얼마나 유사한지는 다음과 같은 공식을 따른다고 한다.(시그마는 해당 Counter dict 안의 value 값을 모두 합하라는 의미)\n",
    "\n",
    "$$(1-\\frac{\\sum_({Counter(A)}-{Counter(B))}}{\\sum_{Counter(A)}})*100$$"
   ]
  },
  {
   "cell_type": "code",
   "execution_count": 42,
   "id": "88b3bbb9",
   "metadata": {},
   "outputs": [],
   "source": [
    "def text_similarity(text_count_1, text_count_2): # text_count_1, text_count_2를 인자로 하는 함수\n",
    "    text1_count = Counter(text_count_1) # text_count_1에서 갯수 카운트하여 text1_count에 저장\n",
    "    text2_count = Counter(text_count_2) # text_count_2에서 갯수 카운트하여 text2_count에 저장\n",
    "    \n",
    "    word_total = sum(text1_count.values()) # text1_count 값 합하여 word_total에 저장\n",
    "    word_diff = sum((text1_count - text2_count).values())# text1_count + text2_count하여 word_diff 변수에 저장\n",
    "    \n",
    "    return (1 - word_diff / word_total) * 100 # 공식에 대입 후 출력"
   ]
  },
  {
   "cell_type": "code",
   "execution_count": 43,
   "id": "e48f716a",
   "metadata": {},
   "outputs": [
    {
     "data": {
      "text/plain": [
       "73.91304347826086"
      ]
     },
     "execution_count": 43,
     "metadata": {},
     "output_type": "execute_result"
    }
   ],
   "source": [
    "text_similarity(word_counter(text), word_counter(text2))"
   ]
  },
  {
   "cell_type": "code",
   "execution_count": 44,
   "id": "6a418572",
   "metadata": {},
   "outputs": [
    {
     "data": {
      "text/plain": [
       "21.739130434782606"
      ]
     },
     "execution_count": 44,
     "metadata": {},
     "output_type": "execute_result"
    }
   ],
   "source": [
    "text_similarity(word_counter(text), word_counter(text3))"
   ]
  }
 ],
 "metadata": {
  "kernelspec": {
   "display_name": "Python 3",
   "language": "python",
   "name": "python3"
  },
  "language_info": {
   "codemirror_mode": {
    "name": "ipython",
    "version": 3
   },
   "file_extension": ".py",
   "mimetype": "text/x-python",
   "name": "python",
   "nbconvert_exporter": "python",
   "pygments_lexer": "ipython3",
   "version": "3.8.8"
  }
 },
 "nbformat": 4,
 "nbformat_minor": 5
}
