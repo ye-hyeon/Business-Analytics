{
 "cells": [
  {
   "cell_type": "markdown",
   "id": "96a34c35",
   "metadata": {},
   "source": [
    "# 실습코드\n",
    "---\n",
    "\n",
    "## 1. 람다함수\n",
    "* 람다(lambda) 함수는 함수의 이름 없이, 함수처럼 사용할 수 있는 익명의 함수를 말한다. 선형대수나 미적분 등의 과목을 수강하다 보면, 한 번쯤 람다 대수라는 표현을 들어 보았을 것이다. 람다 함수의 '람다'는 바로 이 람다 대수에서 유래하였다. 일반적으로 람다 함수는 이름을 지정하지 않아도 사용할 수 있다.\n",
    "\n",
    "### 1.1 기존 함수 "
   ]
  },
  {
   "cell_type": "code",
   "execution_count": 1,
   "id": "ab395f67",
   "metadata": {},
   "outputs": [
    {
     "name": "stdout",
     "output_type": "stream",
     "text": [
      "5\n"
     ]
    }
   ],
   "source": [
    "def f(x,y):# x, y를 인수로 하는 함수 f 생성\n",
    "    return x + y\n",
    "\n",
    "print(f(1,4)) # 1, 4를 인수로 하는 함수 f 실행"
   ]
  },
  {
   "cell_type": "markdown",
   "id": "036d0399",
   "metadata": {},
   "source": [
    "### 1.2 lambda 함수 할당"
   ]
  },
  {
   "cell_type": "code",
   "execution_count": 2,
   "id": "98409a75",
   "metadata": {},
   "outputs": [
    {
     "name": "stdout",
     "output_type": "stream",
     "text": [
      "5\n"
     ]
    }
   ],
   "source": [
    "f=lambda x,y: x + y \n",
    "print(f(1,4))"
   ]
  },
  {
   "cell_type": "markdown",
   "id": "e3ba5af9",
   "metadata": {},
   "source": [
    "### 1.3. 익명의 lambda 함수"
   ]
  },
  {
   "cell_type": "code",
   "execution_count": 4,
   "id": "e0df9b49",
   "metadata": {},
   "outputs": [
    {
     "name": "stdout",
     "output_type": "stream",
     "text": [
      "5\n"
     ]
    }
   ],
   "source": [
    "print((lambda x, y:x + y)(1, 4)) # x=1, y=4 후 x, y를 더한 값 출력"
   ]
  },
  {
   "cell_type": "markdown",
   "id": "a06c116f",
   "metadata": {},
   "source": [
    "## 2. 맵리듀스\n",
    "\n",
    "### 2.1 map함수\n",
    "연속 데이터를 저장하는 시퀀스 자료형에서 요소마다 같은 기능을 적용할 때 사용한다. 일반적으로 리스트나 튜플처럼 요소가 있는 시퀀스 자료형에 사용된다. 다음의 사용 예제를 보자."
   ]
  },
  {
   "cell_type": "code",
   "execution_count": 5,
   "id": "27f57d33",
   "metadata": {},
   "outputs": [
    {
     "name": "stdout",
     "output_type": "stream",
     "text": [
      "[1, 4, 9, 16, 25]\n"
     ]
    }
   ],
   "source": [
    "ex = [1,2,3,4,5]\n",
    "f = lambda x:x**2\n",
    "print(list(map(f, ex)))"
   ]
  },
  {
   "cell_type": "markdown",
   "id": "950c6319",
   "metadata": {},
   "source": [
    "* 코드 설명\n",
    "    * 위 코드에서는 먼저 ex라는 이름의 리스트를 만들고, 입력된 값을 제곱하는 람다함수 f를 생성하였다. 그리고 'map(함수이름, 리스트 데이터)'의 구조에서 map(f,ex) 코드를 실행한다. 이는 해당 코드로 함수 f를 ex의 각 요소에 매핑하라는 뜻이다.\n",
    "    * 파이썬 2.x와 3.x의 차이는 제너레이터의 사용인데 3.x 부터는 map()함수의 기본 반환이 제너레이터이므로 list() 함수를 사용해야 리스트로 반환된다.\n",
    "    * 제너레이터(generator)는 시퀀스 자료형의 데이터를 처리할 때, 실행 시점의 값을 생성하여 효율적으로 메모리를 관리할 수 있다는 장점이 있따.\n",
    "    * 만일 list를 붙이지 않는다면, 다음 코드처럼 코딩할 수도 있다. 여기서 함수는 반드시 람다함수일 필요는 없고, 일반 함수를 만들어 사용해도 문제 없다."
   ]
  },
  {
   "cell_type": "code",
   "execution_count": 6,
   "id": "0baa33ea",
   "metadata": {},
   "outputs": [
    {
     "name": "stdout",
     "output_type": "stream",
     "text": [
      "1\n",
      "4\n",
      "9\n",
      "16\n",
      "25\n"
     ]
    }
   ],
   "source": [
    "ex=[1,2,3,4,5]\n",
    "f=lambda x:x**2\n",
    "for value in map(f,ex): # 함수 f를 ex의 각 요소에 매핑 후 value 저장\n",
    "    print(value) # 저장된 값 출력"
   ]
  },
  {
   "cell_type": "markdown",
   "id": "f43025f6",
   "metadata": {},
   "source": [
    "* 리스트 컴프리헨션과 비교\n",
    "최근에는 람다함수나 map() 함수를 프로그램 개발에 사용하는 것을 권장하지 않는다. 굳이 두 함수를 쓰지 않더라도 리스트 컴프리헨션 기법으로 얼마든지 같은 효과를 낼 수 있기 때문이다. 만약 위 코드를 리스트 컴프리헨션으로 변경하고자 한다면, 다음처럼 코딩하면 된다."
   ]
  },
  {
   "cell_type": "code",
   "execution_count": 7,
   "id": "db706330",
   "metadata": {},
   "outputs": [
    {
     "data": {
      "text/plain": [
       "[1, 4, 9, 16, 25]"
      ]
     },
     "execution_count": 7,
     "metadata": {},
     "output_type": "execute_result"
    }
   ],
   "source": [
    "ex = [1, 2, 3, 4, 5]\n",
    "[x**2 for x in ex]"
   ]
  },
  {
   "cell_type": "markdown",
   "id": "dad80fe8",
   "metadata": {},
   "source": [
    "* 한개 이상의 시퀀스 자료형 데이터의 처리\n",
    "map()함수는 2개 이상의 시퀀스 자료형 데이터를 처리하는 데도 문제가 없다."
   ]
  },
  {
   "cell_type": "code",
   "execution_count": 8,
   "id": "1f7c4105",
   "metadata": {},
   "outputs": [
    {
     "data": {
      "text/plain": [
       "[2, 4, 6, 8, 10]"
      ]
     },
     "execution_count": 8,
     "metadata": {},
     "output_type": "execute_result"
    }
   ],
   "source": [
    "ex=[1,2,3,4,5] # 리스트 생성\n",
    "f=lambda x,y:x+y # x와 y를 더하는 함수\n",
    "list(map(f,ex,ex)) # 함수 f=ex, y=ex의 각 요소 매핑 후 리스트/파이썬 3.x버전부터는 list를 붙여야 함"
   ]
  },
  {
   "cell_type": "code",
   "execution_count": 9,
   "id": "15e4f1e8",
   "metadata": {},
   "outputs": [
    {
     "data": {
      "text/plain": [
       "[2, 4, 6, 8, 10]"
      ]
     },
     "execution_count": 9,
     "metadata": {},
     "output_type": "execute_result"
    }
   ],
   "source": [
    "[x+y for x,y in zip(ex,ex)] # 리스트 컴프리헨션 용법"
   ]
  },
  {
   "cell_type": "markdown",
   "id": "0216394f",
   "metadata": {},
   "source": [
    "### 2.2. reduce 함수\n",
    "* map() 함수와 다르지만 형제처럼 사용하는 함수로 리스트와 같은 시쿼스 자료형에 차례대로 함수를 적용하여 모든 값을 통합하는 함수이다.\n",
    "* lambda 함수와 함께 쓰여 좀 복잡해 보여 예전에는 많이 쓰였으나 최근 버전에서는 사용을 권장하지 않는다. 그러나 많은 코드들이 여전히 사용하고 있어 이해차원에서 배울 필요가 있다."
   ]
  },
  {
   "cell_type": "code",
   "execution_count": 10,
   "id": "03abd68b",
   "metadata": {},
   "outputs": [
    {
     "name": "stdout",
     "output_type": "stream",
     "text": [
      "15\n"
     ]
    }
   ],
   "source": [
    "from functools import reduce # functions 모듈에서 reduce 함수 불러오기\n",
    "print(reduce(lambda x,y:x+y, [1,2,3,4,5]))\n",
    "# 리스트 값 순서대로 함수 적용해 출력"
   ]
  },
  {
   "cell_type": "markdown",
   "id": "bf62e5ea",
   "metadata": {},
   "source": [
    "* 비교코드"
   ]
  },
  {
   "cell_type": "code",
   "execution_count": 11,
   "id": "69ed9e59",
   "metadata": {},
   "outputs": [
    {
     "name": "stdout",
     "output_type": "stream",
     "text": [
      "15\n"
     ]
    }
   ],
   "source": [
    "x=0\n",
    "for y in [1,2,3,4,5]:\n",
    "    x += y # x에 y를 더하고, 그 값에 또 다음 y를 더하기 반복\n",
    "print(x) # x 출력"
   ]
  },
  {
   "cell_type": "markdown",
   "id": "62bba73a",
   "metadata": {},
   "source": [
    "## 3. 별표의 활용\n",
    "### 3.1. 가변 인수로 활용\n",
    "* 가변 인수"
   ]
  },
  {
   "cell_type": "code",
   "execution_count": 12,
   "id": "c86a88e3",
   "metadata": {},
   "outputs": [
    {
     "name": "stdout",
     "output_type": "stream",
     "text": [
      "1 (2, 3, 4, 5, 6)\n",
      "<class 'tuple'>\n"
     ]
    }
   ],
   "source": [
    "def asterisk_test(a, *args):# 매개변수, 여러개 인자를 받는 함수 *는 튜플형태로 변수를 담음\n",
    "    print(a,args) # 출력\n",
    "    print(type(args)) # args의 타입 출력\n",
    "\n",
    "asterisk_test(1,2,3,4,5,6) # a=1이고 args가 매개변수로 2~6"
   ]
  },
  {
   "cell_type": "markdown",
   "id": "3f5b15d6",
   "metadata": {},
   "source": [
    "* 키워드 가변 인수 "
   ]
  },
  {
   "cell_type": "code",
   "execution_count": 13,
   "id": "f12af0d3",
   "metadata": {},
   "outputs": [
    {
     "name": "stdout",
     "output_type": "stream",
     "text": [
      "1 {'b': 2, 'c': 3, 'd': 4, 'e': 5, 'f': 6}\n",
      "<class 'dict'>\n"
     ]
    }
   ],
   "source": [
    "def asterisk_test(a,**kargs): # 키워드, 특정 값 형태로 함수 호출 가능, **는 딕셔너리 형태로 변수를 담음\n",
    "    print(a,kargs) # 출력\n",
    "    print(type(kargs)) # kargs 출력\n",
    "asterisk_test(1,b=2,c=3,d=4,e=5,f=6) # a=1이고 그 뒤에는 딕셔너리 형태로 출력"
   ]
  },
  {
   "cell_type": "markdown",
   "id": "00e2b166",
   "metadata": {},
   "source": [
    "## 별표의 언패킹 기능\n",
    "* 함수에서의 사용"
   ]
  },
  {
   "cell_type": "code",
   "execution_count": 14,
   "id": "a58a2adb",
   "metadata": {},
   "outputs": [
    {
     "name": "stdout",
     "output_type": "stream",
     "text": [
      "1 2 3 4 5 6\n",
      "<class 'tuple'>\n"
     ]
    }
   ],
   "source": [
    "def asterisk_test(a,args):\n",
    "    print(a,*args)\n",
    "    print(type(args))\n",
    "asterisk_test(1,(2,3,4,5,6))\n",
    "\n",
    "# 출력할때 *를 사용했더니 언패킹되어 출력"
   ]
  },
  {
   "cell_type": "code",
   "execution_count": 15,
   "id": "a11cd8b9",
   "metadata": {},
   "outputs": [
    {
     "name": "stdout",
     "output_type": "stream",
     "text": [
      "1 (2, 3, 4, 5, 6)\n",
      "<class 'tuple'>\n"
     ]
    }
   ],
   "source": [
    "def asterisk_test(a,args):\n",
    "    print(a,args)\n",
    "    print(type(args))\n",
    "asterisk_test(1,(2,3,4,5,6))"
   ]
  },
  {
   "cell_type": "markdown",
   "id": "0e3a8221",
   "metadata": {},
   "source": [
    "* 일반 자료형에서의 사용"
   ]
  },
  {
   "cell_type": "code",
   "execution_count": 16,
   "id": "b098a3a6",
   "metadata": {},
   "outputs": [
    {
     "name": "stdout",
     "output_type": "stream",
     "text": [
      "[1, 2] [3, 4] [5, 6]\n",
      "[1, 2] [3, 4] [5, 6]\n"
     ]
    }
   ],
   "source": [
    "a,b,c=([1,2], [3,4], [5,6])\n",
    "print(a,b,c)\n",
    "data=([1,2], [3,4], [5,6])\n",
    "print(*data)"
   ]
  },
  {
   "cell_type": "markdown",
   "id": "9517080d",
   "metadata": {},
   "source": [
    "* zip함수와의 응용"
   ]
  },
  {
   "cell_type": "code",
   "execution_count": 17,
   "id": "fdc9ffa9",
   "metadata": {},
   "outputs": [
    {
     "name": "stdout",
     "output_type": "stream",
     "text": [
      "(1, 3, 5)\n",
      "<class 'tuple'>\n",
      "(2, 4, 6)\n",
      "<class 'tuple'>\n"
     ]
    }
   ],
   "source": [
    "for data in zip(*[[1,2],[3,4],[5,6]]):\n",
    "    print(data)\n",
    "    print(type(data))"
   ]
  },
  {
   "cell_type": "markdown",
   "id": "d04b9f23",
   "metadata": {},
   "source": [
    "* 키워드 가변 인수 응용"
   ]
  },
  {
   "cell_type": "code",
   "execution_count": 18,
   "id": "4807f023",
   "metadata": {},
   "outputs": [
    {
     "name": "stdout",
     "output_type": "stream",
     "text": [
      "10 1 2 3\n"
     ]
    }
   ],
   "source": [
    "def asterisk_test(a,b,c,d):\n",
    "    print(a,b,c,d)\n",
    "data={\"b\":1, \"c\":2, \"d\":3}\n",
    "asterisk_test(10, **data)"
   ]
  },
  {
   "cell_type": "markdown",
   "id": "46271985",
   "metadata": {},
   "source": [
    "## 선형대수학\n",
    "\n",
    "### 4.1 파이썬 스타일 코드로 표현한 벡터"
   ]
  },
  {
   "cell_type": "code",
   "execution_count": 19,
   "id": "648873e1",
   "metadata": {},
   "outputs": [],
   "source": [
    "vector_a=[1,2,10]  # 리스트로 표현한 경우\n",
    "vector_b=(1,2,10)   # 튜플로 표현한 경우\n",
    "vector_c={'x':1, 'y':2, 'z':10}  # 딕셔너리로 표현한 경우"
   ]
  },
  {
   "cell_type": "markdown",
   "id": "ea2e5b75",
   "metadata": {},
   "source": [
    "* 벡터의 연산: 벡터합\n",
    "\n",
    "$$[2,2]+[2,3]+[3,5]=[7,10]$$"
   ]
  },
  {
   "cell_type": "code",
   "execution_count": 20,
   "id": "7ab9197c",
   "metadata": {},
   "outputs": [
    {
     "name": "stdout",
     "output_type": "stream",
     "text": [
      "[7, 10]\n"
     ]
    }
   ],
   "source": [
    "u=[2,2]\n",
    "v=[2,3]\n",
    "z=[3,5]\n",
    "result=[]\n",
    "\n",
    "for i in range(len(u)):\n",
    "    result.append(u[i]+v[i]+z[i])\n",
    "print(result)"
   ]
  },
  {
   "cell_type": "code",
   "execution_count": 21,
   "id": "765a1e6a",
   "metadata": {},
   "outputs": [
    {
     "name": "stdout",
     "output_type": "stream",
     "text": [
      "[7, 10]\n"
     ]
    }
   ],
   "source": [
    "u=[2,2]\n",
    "v=[2,3]\n",
    "z=[3,5]\n",
    "result=[sum(t) for t in zip(u,v,z)]\n",
    "print(result)"
   ]
  },
  {
   "cell_type": "markdown",
   "id": "273f0f93",
   "metadata": {},
   "source": [
    "* 별표를 사용한 함수화"
   ]
  },
  {
   "cell_type": "code",
   "execution_count": 22,
   "id": "34f31e41",
   "metadata": {},
   "outputs": [
    {
     "data": {
      "text/plain": [
       "[7, 10]"
      ]
     },
     "execution_count": 22,
     "metadata": {},
     "output_type": "execute_result"
    }
   ],
   "source": [
    "def vector_addition(*args):\n",
    "    return [sum(t) for t in zip(*args)]   # unpacking 통해 zip(u,v,z) 효과를 낼 수 있음.\n",
    "\n",
    "vector_addition(u,v,z)"
   ]
  },
  {
   "cell_type": "markdown",
   "id": "76c07d4d",
   "metadata": {},
   "source": [
    "* 간단한 두 벡터의 합"
   ]
  },
  {
   "cell_type": "code",
   "execution_count": 23,
   "id": "81b3a589",
   "metadata": {},
   "outputs": [
    {
     "data": {
      "text/plain": [
       "[3, 3]"
      ]
     },
     "execution_count": 23,
     "metadata": {},
     "output_type": "execute_result"
    }
   ],
   "source": [
    "a = [1, 1]\n",
    "b = [2, 2]\n",
    "\n",
    "[x + y for x, y in zip(a, b)]\n",
    "\n",
    "# 리스트를 슬라이스하여 더한 뒤 짝지어 표현"
   ]
  },
  {
   "cell_type": "markdown",
   "id": "2c37b2dc",
   "metadata": {},
   "source": [
    "* 벡터의 연산: 스칼라곱\n",
    "$$ 2([1,2,3]+[4,4,4])=2[5,6,7]=[10,12,14]$$"
   ]
  },
  {
   "cell_type": "code",
   "execution_count": 25,
   "id": "759f743b",
   "metadata": {},
   "outputs": [
    {
     "data": {
      "text/plain": [
       "[10, 12, 14]"
      ]
     },
     "execution_count": 25,
     "metadata": {},
     "output_type": "execute_result"
    }
   ],
   "source": [
    "u=[1,2,3]\n",
    "v=[4,4,4]\n",
    "\n",
    "alpha=2\n",
    "\n",
    "result=[alpha*sum(t) for t in zip(u,v)]\n",
    "result\n",
    "\n",
    "# 위와 같이 리스트를 슬라이스하여 더한 값을 표현하여 스칼라곱이 성립됨을 보여줌"
   ]
  },
  {
   "cell_type": "markdown",
   "id": "cd1309a7",
   "metadata": {},
   "source": [
    "### 4.2 파이썬 스타일코드로 표현한 행렬\n",
    "* 딕셔너리로 표현하는 경우 좌표정보나 이름정보를 넣을 수 있으나 복잡함"
   ]
  },
  {
   "cell_type": "code",
   "execution_count": 28,
   "id": "725dc85f",
   "metadata": {},
   "outputs": [],
   "source": [
    "matrix_a=[[3,6], [4,5]] #리스트로 표현한 경우\n",
    "matrix_b=[(3,6), (4,5)] #튜플로 표현한 경우\n",
    "matrix_c={(0,0):3, (0,1):6, (1,0):4, (1,1):5}  #디셔너리로 표현한경우"
   ]
  },
  {
   "cell_type": "markdown",
   "id": "95e1cc9f",
   "metadata": {},
   "source": [
    "* 행렬의 연산: 행렬의 element-wise 합"
   ]
  },
  {
   "cell_type": "code",
   "execution_count": 30,
   "id": "50c03604",
   "metadata": {},
   "outputs": [
    {
     "name": "stdout",
     "output_type": "stream",
     "text": [
      "[[8, 14], [10, 12]]\n"
     ]
    }
   ],
   "source": [
    "matrix_a=[[3,6], [4,5]]\n",
    "matrix_b=[[5,8], [6,7]]\n",
    "\n",
    "result=[[sum(row) for row in zip(*t)] for t in zip(matrix_a, matrix_b)]\n",
    "print(result)"
   ]
  },
  {
   "cell_type": "markdown",
   "id": "d0e5db09",
   "metadata": {},
   "source": [
    "# 일반문제\n",
    "## 주민등록번호로 성별 찾기 with map\n",
    "PR6에서 split을 활용하여 주민등록번호 뒷자리의 맨 첫 번째 숫자를 추출하여 성별을 알아내는 과정을 구현하였다. 이번에는 여러개의 요소를 가지는 다음과 같은 리스트에서 성별을 찾는 과정을 맵리듀스를 이용해 간단하게 구현해보자."
   ]
  },
  {
   "cell_type": "code",
   "execution_count": 31,
   "id": "97be5aa7",
   "metadata": {},
   "outputs": [],
   "source": [
    "pins = [\"891120-1234567\", \"931120-2335567\", \"911120-1234234\", \"951120-1234567\"]"
   ]
  },
  {
   "cell_type": "markdown",
   "id": "ca21cb32",
   "metadata": {},
   "source": [
    "> **_Q_**: lambda와 map을 사용하여 위의 리스트에서 출력결과 예시와 같이 성별을 나타내는 값을 추출하시오.\n",
    "\n",
    "### 출력결과 예시"
   ]
  },
  {
   "cell_type": "code",
   "execution_count": 32,
   "id": "90bc64e3",
   "metadata": {},
   "outputs": [],
   "source": [
    "## CODE\n",
    "\n",
    "## ['1', '2', '1', '1']"
   ]
  },
  {
   "cell_type": "markdown",
   "id": "21bb63e5",
   "metadata": {},
   "source": [
    "### HINT\n",
    "1. lambda 함수로 주민등록번호 문자열에서 성별을 추출하는 과정을 구현한다.\n",
    "2. map 함수에 해당 lambda함수와 주민등록번호 리스트를 입력한다.\n",
    "3. **실습코드** 2.1.에서 map 과 lambda를 어떻게 함께 사용하는지와 결과를 list로 출력하는 과정을 참고하세요"
   ]
  },
  {
   "cell_type": "code",
   "execution_count": 33,
   "id": "69fd98ea",
   "metadata": {},
   "outputs": [
    {
     "data": {
      "text/plain": [
       "['1', '2', '1', '1']"
      ]
     },
     "execution_count": 33,
     "metadata": {},
     "output_type": "execute_result"
    }
   ],
   "source": [
    "pins = [\"891120-1234567\", \"931120-2335567\", \"911120-1234234\", \"951120-1234567\"]\n",
    "\n",
    "\n",
    "list(map(lambda x: x.split(\"-\")[1][0], pins))"
   ]
  },
  {
   "cell_type": "markdown",
   "id": "cdcf36e5",
   "metadata": {},
   "source": [
    "# 도전문제\n",
    "\n",
    "## 벡터의 내적\n",
    "크기가 같은 두 벡터의 내적은 벡터의 각 성분별 곱한 값을 더해준 값이다.\n",
    "\n",
    "$$v1∗w1+⋯+vn∗wn$$\n",
    " \n",
    "> **_Q_**: 크기가 같은 두 벡터 (list 형태)를 받으면 이를 내적한 값을 도출하는 함수 dot을 구현하고, 이를 활용하여 a=[1, 2], b=[3,4]를 내적한 값을 구하시오.\n",
    "\n",
    "## HINT\n",
    "1. **실습코드** 4.1.에서는 벡터의 합과 곱에 대한 연산만을 다루고 있습니다. 이중 **간단한 벡터의 합**에서 리스트 컴프리헨션을 사용한 방법에서 연산을 바꾸면 각 벡터별 곱을 간단히 구할 수 있습니다."
   ]
  },
  {
   "cell_type": "code",
   "execution_count": 34,
   "id": "8a659d0a",
   "metadata": {},
   "outputs": [
    {
     "data": {
      "text/plain": [
       "11"
      ]
     },
     "execution_count": 34,
     "metadata": {},
     "output_type": "execute_result"
    }
   ],
   "source": [
    "a = [1, 2]\n",
    "b = [3, 4]\n",
    "\n",
    "dot = lambda a,b : sum([x*y for x, y in zip(a, b)])\n",
    "\n",
    "dot(a,b)"
   ]
  }
 ],
 "metadata": {
  "kernelspec": {
   "display_name": "Python 3",
   "language": "python",
   "name": "python3"
  },
  "language_info": {
   "codemirror_mode": {
    "name": "ipython",
    "version": 3
   },
   "file_extension": ".py",
   "mimetype": "text/x-python",
   "name": "python",
   "nbconvert_exporter": "python",
   "pygments_lexer": "ipython3",
   "version": "3.8.8"
  }
 },
 "nbformat": 4,
 "nbformat_minor": 5
}
